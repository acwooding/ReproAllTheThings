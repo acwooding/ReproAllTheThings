{
 "cells": [
  {
   "cell_type": "code",
   "execution_count": null,
   "metadata": {
    "execution": {
     "iopub.execute_input": "2021-06-08T15:21:17.577999Z",
     "iopub.status.busy": "2021-06-08T15:21:17.577248Z",
     "iopub.status.idle": "2021-06-08T15:21:19.644606Z",
     "shell.execute_reply": "2021-06-08T15:21:19.645066Z"
    }
   },
   "outputs": [],
   "source": [
    "from src.data import Dataset #, helpers, DatasetGraph\n",
    "from src.helpers import notebook_as_transformer\n",
    "from src import paths\n",
    "from src.log import logger"
   ]
  },
  {
   "cell_type": "code",
   "execution_count": null,
   "metadata": {
    "execution": {
     "iopub.execute_input": "2021-06-08T15:21:19.649246Z",
     "iopub.status.busy": "2021-06-08T15:21:19.648646Z",
     "iopub.status.idle": "2021-06-08T15:21:19.686649Z",
     "shell.execute_reply": "2021-06-08T15:21:19.687070Z"
    }
   },
   "outputs": [],
   "source": [
    "%load_ext autoreload\n",
    "%autoreload 2"
   ]
  },
  {
   "cell_type": "code",
   "execution_count": null,
   "metadata": {},
   "outputs": [],
   "source": [
    "import logging\n",
    "logger.setLevel(logging.DEBUG)"
   ]
  },
  {
   "cell_type": "markdown",
   "metadata": {},
   "source": [
    "# Using a notebook as a Dataset transformer \"function\""
   ]
  },
  {
   "cell_type": "markdown",
   "metadata": {},
   "source": [
    "## Create the derived Dataset\n",
    "\n",
    "Let's create a dataset (to be used in future notebooks) to subselect the reviews that include a varietal appearing a minimal number of times (say, 75)."
   ]
  },
  {
   "cell_type": "code",
   "execution_count": null,
   "metadata": {
    "execution": {
     "iopub.execute_input": "2021-06-08T15:21:19.690535Z",
     "iopub.status.busy": "2021-06-08T15:21:19.689929Z",
     "iopub.status.idle": "2021-06-08T15:21:19.724535Z",
     "shell.execute_reply": "2021-06-08T15:21:19.724976Z"
    }
   },
   "outputs": [],
   "source": [
    "min_reviews = 75"
   ]
  },
  {
   "cell_type": "code",
   "execution_count": null,
   "metadata": {
    "execution": {
     "iopub.execute_input": "2021-06-08T15:21:19.728382Z",
     "iopub.status.busy": "2021-06-08T15:21:19.727676Z",
     "iopub.status.idle": "2021-06-08T15:21:20.157660Z",
     "shell.execute_reply": "2021-06-08T15:21:20.158239Z"
    }
   },
   "outputs": [],
   "source": [
    "ds_in = Dataset.load('wine_reviews_130k')"
   ]
  },
  {
   "cell_type": "code",
   "execution_count": null,
   "metadata": {
    "execution": {
     "iopub.execute_input": "2021-06-08T15:21:20.164271Z",
     "iopub.status.busy": "2021-06-08T15:21:20.163552Z",
     "iopub.status.idle": "2021-06-08T15:21:20.201630Z",
     "shell.execute_reply": "2021-06-08T15:21:20.201152Z"
    }
   },
   "outputs": [],
   "source": [
    "def limit_to_common_varietals(df, min_reviews=25):\n",
    "    '''\n",
    "    Take the subselection of the wine reviews dataset (df) that only\n",
    "    contains varietals with at least \"min_reviews\" reviews.\n",
    "    \n",
    "    All entries in the final dataframe must have a variety.\n",
    "\n",
    "    Parameters\n",
    "    ----------\n",
    "    df: pandas.DataFrame\n",
    "        wine reviews dataframe with 'variety' as  a column\n",
    "    min_reviews: int\n",
    "        minimum number of reviews needed to keep a varietal\n",
    "\n",
    "    Returns\n",
    "    -------\n",
    "    df_common_variety: pandas.DataFrame\n",
    "        dataframe that only includes reviews with a variety that appears at least min_reviews times.\n",
    "    '''\n",
    "    df_variety = df.dropna(axis=0, subset=['variety']).copy()\n",
    "\n",
    "    varietal_counts = df_variety.variety.value_counts()\n",
    "    df_variety['common_varietal'] = df_variety.variety.apply(lambda x: varietal_counts[x] > min_reviews)\n",
    "\n",
    "    df_common_variety = df_variety[df_variety.common_varietal].copy()\n",
    "    df_common_variety.reset_index(inplace=True)\n",
    "    df_common_variety.drop(columns=['index', 'common_varietal'], inplace=True)\n",
    "\n",
    "    return df_common_variety\n"
   ]
  },
  {
   "cell_type": "markdown",
   "metadata": {},
   "source": [
    "Create the new dataset, preserving (and adding to) the old metadata"
   ]
  },
  {
   "cell_type": "code",
   "execution_count": null,
   "metadata": {
    "execution": {
     "iopub.execute_input": "2021-06-08T15:21:20.206344Z",
     "iopub.status.busy": "2021-06-08T15:21:20.205729Z",
     "iopub.status.idle": "2021-06-08T15:21:25.169281Z",
     "shell.execute_reply": "2021-06-08T15:21:25.169727Z"
    }
   },
   "outputs": [],
   "source": [
    "new_dataset_name = f'{ds_in.name}_varietals_{min_reviews}'\n",
    "new_data = limit_to_common_varietals(ds_in.data, min_reviews=min_reviews)\n",
    "new_metadata = ds_in.metadata.copy()\n",
    "\n",
    "added_descr_txt = f\"\"\"Subselection of the {ds_in.name} Dataset that only includes entries for wines\\ \n",
    "with a given varietal that appear in at least {min_reviews} different entries.\"\"\"\n",
    "\n",
    "new_metadata['descr'] += added_descr_txt\n",
    "\n",
    "new_ds = Dataset(dataset_name=new_dataset_name, data=new_data,\n",
    "                 metadata=new_metadata)\n",
    "\n"
   ]
  },
  {
   "cell_type": "code",
   "execution_count": null,
   "metadata": {
    "execution": {
     "iopub.execute_input": "2021-06-08T15:21:25.173193Z",
     "iopub.status.busy": "2021-06-08T15:21:25.172578Z",
     "iopub.status.idle": "2021-06-08T15:21:25.214490Z",
     "shell.execute_reply": "2021-06-08T15:21:25.214932Z"
    }
   },
   "outputs": [],
   "source": [
    "new_ds.data.shape, new_ds.name, new_ds.HASHES"
   ]
  },
  {
   "cell_type": "markdown",
   "metadata": {},
   "source": [
    "## Add the transformer to the catalog\n",
    "Let's use this notebook as the transformer to create the derived dataset in the `DatasetGraph`"
   ]
  },
  {
   "cell_type": "code",
   "execution_count": null,
   "metadata": {
    "execution": {
     "iopub.execute_input": "2021-06-08T15:21:25.218378Z",
     "iopub.status.busy": "2021-06-08T15:21:25.217766Z",
     "iopub.status.idle": "2021-06-08T15:21:29.612093Z",
     "shell.execute_reply": "2021-06-08T15:21:29.611559Z"
    }
   },
   "outputs": [],
   "source": [
    "# Due to various design choiced in Jupyter, we need to specify this name manually.\n",
    "nbname = '03-Add-Dataset-Common-Varietals.ipynb'\n",
    "dsdict = notebook_as_transformer(notebook_name=nbname,\n",
    "                                 input_datasets=[ds_in],\n",
    "                                 output_datasets=[new_ds],\n",
    "                                 overwrite_catalog=True)"
   ]
  },
  {
   "cell_type": "code",
   "execution_count": null,
   "metadata": {},
   "outputs": [],
   "source": [
    "dsdict.keys()"
   ]
  },
  {
   "cell_type": "markdown",
   "metadata": {},
   "source": [
    "The one criterion for using a notebook as a transformer is that we must guarantee that the dataset is present **on disk** when we are done; i.e. `Dataset.from_disk()` works:"
   ]
  },
  {
   "cell_type": "code",
   "execution_count": null,
   "metadata": {},
   "outputs": [],
   "source": [
    "ds_ondisk = Dataset.from_disk(new_dataset_name)"
   ]
  },
  {
   "cell_type": "code",
   "execution_count": null,
   "metadata": {},
   "outputs": [],
   "source": [
    "ds_ondisk.data.shape, ds_ondisk.name, ds_ondisk.HASHES"
   ]
  },
  {
   "cell_type": "code",
   "execution_count": null,
   "metadata": {},
   "outputs": [],
   "source": [
    "new_ds.HASHES == ds_ondisk.HASHES"
   ]
  },
  {
   "cell_type": "code",
   "execution_count": null,
   "metadata": {},
   "outputs": [],
   "source": []
  }
 ],
 "metadata": {
  "kernelspec": {
   "display_name": "Python [conda env:reproallthethings] *",
   "language": "python",
   "name": "conda-env-reproallthethings-py"
  },
  "language_info": {
   "codemirror_mode": {
    "name": "ipython",
    "version": 3
   },
   "file_extension": ".py",
   "mimetype": "text/x-python",
   "name": "python",
   "nbconvert_exporter": "python",
   "pygments_lexer": "ipython3",
   "version": "3.7.10"
  }
 },
 "nbformat": 4,
 "nbformat_minor": 4
}
