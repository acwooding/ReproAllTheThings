{
 "cells": [
  {
   "cell_type": "code",
   "execution_count": null,
   "metadata": {},
   "outputs": [],
   "source": [
    "#Quick cell to make jupyter notebook use the full screen wi\"dth\n",
    "from IPython.core.display import display, HTML\n",
    "display(HTML(\"<style>.container { width:100% !important; }</style>\"))"
   ]
  },
  {
   "cell_type": "code",
   "execution_count": null,
   "metadata": {},
   "outputs": [],
   "source": [
    "# Basic utility functions\n",
    "import logging\n",
    "from src.logging import logger\n",
    "from src.paths import Paths\n",
    "from src.utils import list_dir\n",
    "paths = Paths()"
   ]
  },
  {
   "cell_type": "code",
   "execution_count": null,
   "metadata": {},
   "outputs": [],
   "source": [
    "%load_ext autoreload\n",
    "%autoreload 2"
   ]
  },
  {
   "cell_type": "code",
   "execution_count": null,
   "metadata": {},
   "outputs": [],
   "source": [
    "#Some plotting libraries\n",
    "import matplotlib.pyplot as plt\n",
    "import seaborn as sns\n",
    "%matplotlib notebook\n",
    "from bokeh.plotting import show, save, output_notebook, output_file\n",
    "from bokeh.resources import INLINE \n",
    "output_notebook(resources=INLINE)"
   ]
  },
  {
   "cell_type": "markdown",
   "metadata": {},
   "source": [
    "## Tranformation for doing Beer Style by Review Ratings\n",
    "Exactly as in this notebook: \n",
    "https://github.com/jc-healy/EmbedAllTheThings/blob/master/EmbedAllTheThings_Beer_style_by_review_ratings.ipynb\n"
   ]
  },
  {
   "cell_type": "code",
   "execution_count": null,
   "metadata": {},
   "outputs": [],
   "source": [
    "# Grab the processed dataset\n",
    "from src.data import Dataset\n",
    "from src import workflow\n",
    "\n",
    "workflow.available_datasets()"
   ]
  },
  {
   "cell_type": "code",
   "execution_count": null,
   "metadata": {},
   "outputs": [],
   "source": [
    "ds = Dataset.load('beer_review_all')\n",
    "srm_ds = Dataset.load('beer_styles_srm_all')"
   ]
  },
  {
   "cell_type": "code",
   "execution_count": null,
   "metadata": {},
   "outputs": [],
   "source": [
    "ds.data.head().T"
   ]
  },
  {
   "cell_type": "code",
   "execution_count": null,
   "metadata": {},
   "outputs": [],
   "source": [
    "srm_ds.data.head()"
   ]
  },
  {
   "cell_type": "markdown",
   "metadata": {},
   "source": [
    "## Embed Beer Style\n",
    "\n",
    "If we are going to embed beer style then we need to turn our reviews data frame into a frame with one row per beer style instead of one row per review.\n",
    "\n",
    "This is a job for groupby.  We groupby the column we'd like to embedd and then use agg with a dictionary of column names to aggregation functions to tell it how to summarize the many reviews about a single beer into one record.  Aggregation functions are pretty much any function that takes an iterable and returns a single value.  `Median` and `max` are great functions for dealing with numeric fields.  `First` is handy for a field that you know to be common across for every beer review.  In other words fields that are tied to the beer such as brewery_name or beer_abv.  An alternative to first is to write a simple lambda function to pull off the most common categorical variable in each groupby."
   ]
  },
  {
   "cell_type": "code",
   "execution_count": null,
   "metadata": {},
   "outputs": [],
   "source": [
    "reviews = ds.data\n",
    "srm_data = srm_ds.data"
   ]
  },
  {
   "cell_type": "code",
   "execution_count": null,
   "metadata": {},
   "outputs": [],
   "source": [
    "beer_style = reviews.groupby('beer_style').agg({\n",
    "    'beer_name':lambda x: x.mode(),\n",
    "    'brewery_name':lambda x: x.mode(),\n",
    "    'beer_abv':'mean',\n",
    "    'review_aroma':'mean',\n",
    "    'review_appearance':'mean',\n",
    "    'review_palate':'mean',\n",
    "    'review_taste':'mean',\n",
    "    'review_overall':'mean',\n",
    "    'review_profilename':len\n",
    "}).reset_index()\n",
    "\n",
    "beer_style.columns = \"\"\"beer_style common_beer common_brewer abv \n",
    "aroma appearance overall palate taste \n",
    "num_reviews\"\"\".split()\n",
    "beer_style.shape"
   ]
  },
  {
   "cell_type": "code",
   "execution_count": null,
   "metadata": {},
   "outputs": [],
   "source": [
    "beer_style.tail(2).T"
   ]
  },
  {
   "cell_type": "code",
   "execution_count": null,
   "metadata": {},
   "outputs": [],
   "source": [
    "beer_style.sort_values('num_reviews', ascending=False)"
   ]
  },
  {
   "cell_type": "markdown",
   "metadata": {},
   "source": [
    "# Next step is augmenting the data with some other data...\n"
   ]
  },
  {
   "cell_type": "code",
   "execution_count": null,
   "metadata": {},
   "outputs": [],
   "source": [
    "beer_style = beer_style.merge(srm_data[['kaggle_review_style','Style Category','SRM Mid','srm_rgb']], how='left',\n",
    "                left_on='beer_style', right_on='kaggle_review_style')\n",
    "beer_style.rename(columns={'SRM Mid':'srm_mid', 'Style Category':'style_category'}, inplace=True)"
   ]
  },
  {
   "cell_type": "code",
   "execution_count": null,
   "metadata": {},
   "outputs": [],
   "source": [
    "beer_style.head(3).T"
   ]
  },
  {
   "cell_type": "markdown",
   "metadata": {},
   "source": [
    "### Select some numeric columns as candidates for your embedding\n",
    "\n",
    "Here we'll use the 4 numeric rating columns which rate characteristics of the beer.  We'll leave the overall score out for the time being."
   ]
  },
  {
   "cell_type": "code",
   "execution_count": null,
   "metadata": {},
   "outputs": [],
   "source": [
    "numeric_columns = 'aroma appearance palate taste'.split()\n",
    "style_by_reviews = beer_style[numeric_columns]\n",
    "style_by_reviews.describe()"
   ]
  },
  {
   "cell_type": "code",
   "execution_count": null,
   "metadata": {},
   "outputs": [],
   "source": [
    "plt.figure(figsize=(12, 8))\n",
    "#sns.set(font_scale = 3)\n",
    "f =sns.violinplot(data=style_by_reviews)\n",
    "#f.get_figure().savefig('results/beer_style_numeric_violin.png')"
   ]
  },
  {
   "cell_type": "markdown",
   "metadata": {},
   "source": [
    "## This is the data to be used"
   ]
  },
  {
   "cell_type": "code",
   "execution_count": null,
   "metadata": {},
   "outputs": [],
   "source": [
    "style_by_reviews"
   ]
  },
  {
   "cell_type": "markdown",
   "metadata": {},
   "source": [
    "# Translate this into a reproducible transformation\n",
    "\n",
    "Create a custom function to do this tranformation."
   ]
  },
  {
   "cell_type": "code",
   "execution_count": null,
   "metadata": {},
   "outputs": [],
   "source": [
    "def to_beer_style_by_review(review_dset, *, srm_dset_name):\n",
    "    \"\"\"\n",
    "    Augments beer reviews with SRM (color assessment) data.\n",
    "    \n",
    "    See notebook 04 for what this does and why.\n",
    "    \n",
    "    Parameters\n",
    "    ----------\n",
    "    review_dset:\n",
    "        beer review dataset as a pandas dataframe\n",
    "    srm_dset_name: string\n",
    "        name of corresponding srm Dataset\n",
    "\n",
    "    Returns\n",
    "    -------\n",
    "    style-by-review DataFrame\n",
    "    \"\"\"\n",
    "    \n",
    "    reviews = review_dset.data\n",
    "    srm_data = Dataset.load(srm_dset_name).data\n",
    "    \n",
    "    # Groupby to select the fields that we want to use\n",
    "    beer_style = reviews.groupby('beer_style').agg({\n",
    "        'beer_name':lambda x: x.mode(),\n",
    "        'brewery_name':lambda x: x.mode(),\n",
    "        'beer_abv':'mean',\n",
    "        'review_aroma':'mean',\n",
    "        'review_appearance':'mean',\n",
    "        'review_palate':'mean',\n",
    "        'review_taste':'mean',\n",
    "        'review_overall':'mean',\n",
    "        'review_profilename':len\n",
    "    }).reset_index()\n",
    "\n",
    "    beer_style.columns = \"\"\"beer_style common_beer common_brewer abv \n",
    "    aroma appearance overall palate taste \n",
    "    num_reviews\"\"\".split()\n",
    "    \n",
    "    # Augment beer style with SRM and RGB data\n",
    "    beer_style = beer_style.merge(srm_data[['kaggle_review_style','Style Category',\n",
    "                                            'SRM Mid','srm_rgb']], how='left',\n",
    "                    left_on='beer_style', right_on='kaggle_review_style')\n",
    "    beer_style.rename(columns={'SRM Mid':'srm_mid', 'Style Category':'style_category'},\n",
    "                      inplace=True)\n",
    "    \n",
    "    return beer_style"
   ]
  },
  {
   "cell_type": "code",
   "execution_count": null,
   "metadata": {},
   "outputs": [],
   "source": [
    "# Test out the function\n",
    "new_style_by_reviews = to_beer_style_by_review(ds, srm_dset_name='beer_styles_srm_all')"
   ]
  },
  {
   "cell_type": "code",
   "execution_count": null,
   "metadata": {},
   "outputs": [],
   "source": [
    "new_style_by_reviews.describe()"
   ]
  },
  {
   "cell_type": "code",
   "execution_count": null,
   "metadata": {},
   "outputs": [],
   "source": [
    "style_by_reviews.describe()"
   ]
  },
  {
   "cell_type": "markdown",
   "metadata": {},
   "source": [
    "Looks like we have a winner.\n",
    "\n",
    "Next up, put this in the src module (want it to go in localdata.py or a transformer version of that). Currently it should go into `transformers.py`"
   ]
  },
  {
   "cell_type": "code",
   "execution_count": null,
   "metadata": {},
   "outputs": [],
   "source": [
    "workflow.available_transformers()"
   ]
  },
  {
   "cell_type": "code",
   "execution_count": null,
   "metadata": {},
   "outputs": [],
   "source": [
    "workflow.available_datasets()"
   ]
  },
  {
   "cell_type": "code",
   "execution_count": null,
   "metadata": {},
   "outputs": [],
   "source": [
    "srm_transform = ('add_srm_to_reviews',{'srm_dset_name':'beer_styles_srm_all'})"
   ]
  },
  {
   "cell_type": "code",
   "execution_count": null,
   "metadata": {},
   "outputs": [],
   "source": [
    "# Add the new transformation\n",
    "workflow.add_transformer(input_dataset='beer_review_all',\n",
    "                         transformations=[srm_transform],\n",
    "                         output_dataset='beer_style')"
   ]
  },
  {
   "cell_type": "code",
   "execution_count": null,
   "metadata": {},
   "outputs": [],
   "source": [
    "workflow.available_datasets()"
   ]
  },
  {
   "cell_type": "code",
   "execution_count": null,
   "metadata": {},
   "outputs": [],
   "source": [
    "workflow.available_transformers()"
   ]
  },
  {
   "cell_type": "code",
   "execution_count": null,
   "metadata": {},
   "outputs": [],
   "source": [
    "workflow.get_transformer_list()"
   ]
  },
  {
   "cell_type": "code",
   "execution_count": null,
   "metadata": {},
   "outputs": [],
   "source": [
    "#workflow.del_transformer(2)"
   ]
  },
  {
   "cell_type": "code",
   "execution_count": null,
   "metadata": {},
   "outputs": [],
   "source": [
    "workflow.make_data()"
   ]
  },
  {
   "cell_type": "code",
   "execution_count": null,
   "metadata": {},
   "outputs": [],
   "source": [
    "workflow.available_datasets()"
   ]
  },
  {
   "cell_type": "code",
   "execution_count": null,
   "metadata": {},
   "outputs": [],
   "source": [
    "beer_style = Dataset.load('beer_style')"
   ]
  },
  {
   "cell_type": "code",
   "execution_count": null,
   "metadata": {},
   "outputs": [],
   "source": [
    "beer_style.data"
   ]
  },
  {
   "cell_type": "code",
   "execution_count": null,
   "metadata": {},
   "outputs": [],
   "source": [
    "beer_style.metadata"
   ]
  },
  {
   "cell_type": "code",
   "execution_count": null,
   "metadata": {},
   "outputs": [],
   "source": []
  }
 ],
 "metadata": {
  "kernelspec": {
   "display_name": "Python [conda env:reproallthethings] *",
   "language": "python",
   "name": "conda-env-reproallthethings-py"
  },
  "language_info": {
   "codemirror_mode": {
    "name": "ipython",
    "version": 3
   },
   "file_extension": ".py",
   "mimetype": "text/x-python",
   "name": "python",
   "nbconvert_exporter": "python",
   "pygments_lexer": "ipython3",
   "version": "3.8.1"
  }
 },
 "nbformat": 4,
 "nbformat_minor": 4
}
