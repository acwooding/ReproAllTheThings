{
 "cells": [
  {
   "cell_type": "code",
   "execution_count": null,
   "metadata": {},
   "outputs": [],
   "source": [
    "#Quick cell to make jupyter notebook use the full screen width\n",
    "from IPython.core.display import display, HTML\n",
    "display(HTML(\"<style>.container { width:100% !important; }</style>\"))"
   ]
  },
  {
   "cell_type": "code",
   "execution_count": null,
   "metadata": {},
   "outputs": [],
   "source": [
    "#Some plotting libraries\n",
    "import matplotlib.pyplot as plt\n",
    "%matplotlib notebook\n",
    "from bokeh.plotting import show, save, output_notebook, output_file\n",
    "from bokeh.layouts import gridplot\n",
    "from bokeh.resources import INLINE \n",
    "output_notebook(resources=INLINE)"
   ]
  },
  {
   "cell_type": "code",
   "execution_count": null,
   "metadata": {},
   "outputs": [],
   "source": [
    "from src import workflow\n",
    "from src.data import Dataset"
   ]
  },
  {
   "cell_type": "code",
   "execution_count": null,
   "metadata": {},
   "outputs": [],
   "source": [
    "import umap\n",
    "import umap.plot\n",
    "from sklearn.feature_extraction.text import CountVectorizer"
   ]
  },
  {
   "cell_type": "code",
   "execution_count": null,
   "metadata": {},
   "outputs": [],
   "source": [
    "breweries_ds = Dataset.load(\"breweries_by_style\")\n",
    "breweries = breweries_ds.data"
   ]
  },
  {
   "cell_type": "markdown",
   "metadata": {},
   "source": [
    "## Embed the data\n",
    "\n",
    "We are going to vectorize our data and look at the number of categorical values they have in common.  A useful thing to do here is to require each row to have a minimum support before being included.  Filtering this early, will ensure indices line up later on.\n",
    "\n",
    "This step turns a sequence of space seperated text into a sparse matrix of counts.  One row per row of our data frame and one column per unique token that appeared in our categorical field of interest.\n",
    "\n",
    "If we want to deal with sets (i.e. just presence or absence of a category) use:<BR>\n",
    "`beer_by_authors_vectorizer = CountVectorizer(binary=True)`<BR>\n",
    "If we think counts should matter we might use:<BR>\n",
    "`beer_by_authors_vectorizer = CountVectorizer()`<BR>\n",
    "or if we want to correct for very unbalanced column frequencies:<BR>\n",
    "`beer_by_authors_vectorizer = TfidfVectorizer()`<BR>\n",
    "    \n",
    "We probably want to remove any brewery that has only a few reviewers.  This threshold can be based on intuition or by examining the distribution of reviews per brewery.\n",
    "    \n",
    "We use `min_df=10` in our CountVectorize to only count styles that are made by at least 10 breweries.\n"
   ]
  },
  {
   "cell_type": "code",
   "execution_count": null,
   "metadata": {},
   "outputs": [],
   "source": [
    "popular_breweries = breweries[breweries.num_reviewers>100].reset_index(drop=True)"
   ]
  },
  {
   "cell_type": "code",
   "execution_count": null,
   "metadata": {},
   "outputs": [],
   "source": [
    "brewery_by_style_vectorizer = CountVectorizer(binary=False, min_df=10, token_pattern='[^,]+')\n",
    "brewery_by_style = brewery_by_style_vectorizer.fit_transform(popular_breweries.beer_style)\n",
    "brewery_by_style"
   ]
  },
  {
   "cell_type": "markdown",
   "metadata": {},
   "source": [
    "Now we reduce the dimension of this data.\n",
    "\n",
    "If we are dealing with sets (i.e. just presence or absence of a category) use:<BR>\n",
    "`metric='jaccard'`<BR>\n",
    "If we think counts should matter we might use:<BR>\n",
    "`metric='hellinger'`<BR>\n",
    "or if we want to correct for very unbalanced column frequencies:<BR>\n",
    "`metric='hellinger'`<BR>\n",
    "    \n",
    "As you get more and more points I'd recommend increasing the `n_neighbors` parameter to compensate.  Thing of this as a resolution parameter.\n",
    "\n",
    "`n_components` controls the dimension you will be embedding your data into (2-dimensions for easy visualization).  Feel free to embed into higher dimensions for clustering if you'd like.\n",
    "\n",
    "`unique=True` says that if you have two identical points you want to map them to the exact same co-ordinates in your low space.  This becomes especially important if you have more exact dupes that your `n_neighbors` parameter.  That is the problem case where exact dupes can be pushed into very different regions of your space."
   ]
  },
  {
   "cell_type": "code",
   "execution_count": null,
   "metadata": {},
   "outputs": [],
   "source": [
    "%%time\n",
    "brewery_by_style_model = umap.UMAP(n_neighbors=15, n_components=2, metric='hellinger', min_dist=0.1,\n",
    "                                  unique=True, random_state=42).fit(brewery_by_style)"
   ]
  },
  {
   "cell_type": "code",
   "execution_count": null,
   "metadata": {},
   "outputs": [],
   "source": [
    "outfile ='results/brewery_by_style_hellinger'"
   ]
  },
  {
   "cell_type": "code",
   "execution_count": null,
   "metadata": {},
   "outputs": [],
   "source": [
    "umap_plot = umap.plot.points(brewery_by_style_model, labels=popular_breweries.favorite_style.values, theme='fire');\n",
    "#umap_plot.figure.savefig(outfile+'.png', dpi=300, bbox_inches='tight')"
   ]
  },
  {
   "cell_type": "markdown",
   "metadata": {},
   "source": [
    "... and now for an interactive plot with mouseover."
   ]
  },
  {
   "cell_type": "code",
   "execution_count": null,
   "metadata": {},
   "outputs": [],
   "source": [
    "hover_df = popular_breweries['brewery_name favorite_style beer_abv num_beer_style review_overall'.split()]\n",
    "f = umap.plot.interactive(brewery_by_style_model, labels=popular_breweries.favorite_style.values, \n",
    "                          hover_data=hover_df, theme='fire', point_size=5);\n",
    "#save(f,outfile+'.html')\n",
    "show(f)"
   ]
  },
  {
   "cell_type": "code",
   "execution_count": null,
   "metadata": {},
   "outputs": [],
   "source": [
    "seeds = [10, 200, 3000, 40000]\n",
    "brewery_by_style_model_list = []\n",
    "\n",
    "for seed in seeds:\n",
    "    embed = umap.UMAP(n_neighbors=15, n_components=2, metric='hellinger', min_dist=0.1,\n",
    "                                  unique=True, random_state=seed).fit(brewery_by_style)\n",
    "    brewery_by_style_model_list.append(embed)"
   ]
  },
  {
   "cell_type": "code",
   "execution_count": null,
   "metadata": {},
   "outputs": [],
   "source": [
    "hover_df = popular_breweries['brewery_name favorite_style beer_abv num_beer_style review_overall'.split()]\n",
    "f = umap.plot.interactive(brewery_by_style_model_list[0], labels=popular_breweries.favorite_style.values, \n",
    "                          hover_data=hover_df, theme='fire', point_size=5);\n",
    "#save(f,outfile+'.html')\n",
    "show(f)"
   ]
  },
  {
   "cell_type": "code",
   "execution_count": null,
   "metadata": {},
   "outputs": [],
   "source": [
    "hover_df = popular_breweries['brewery_name favorite_style beer_abv num_beer_style review_overall'.split()]\n",
    "f = umap.plot.interactive(brewery_by_style_model_list[1], labels=popular_breweries.favorite_style.values, \n",
    "                          hover_data=hover_df, theme='fire', point_size=5);\n",
    "#save(f,outfile+'.html')\n",
    "show(f)"
   ]
  },
  {
   "cell_type": "code",
   "execution_count": null,
   "metadata": {},
   "outputs": [],
   "source": [
    "hover_df = popular_breweries['brewery_name favorite_style beer_abv num_beer_style review_overall'.split()]\n",
    "f = umap.plot.interactive(brewery_by_style_model_list[2], labels=popular_breweries.favorite_style.values, \n",
    "                          hover_data=hover_df, theme='fire', point_size=5);\n",
    "#save(f,outfile+'.html')\n",
    "show(f)"
   ]
  },
  {
   "cell_type": "code",
   "execution_count": null,
   "metadata": {},
   "outputs": [],
   "source": [
    "hover_df = popular_breweries['brewery_name favorite_style beer_abv num_beer_style review_overall'.split()]\n",
    "f = umap.plot.interactive(brewery_by_style_model_list[3], labels=popular_breweries.favorite_style.values, \n",
    "                          hover_data=hover_df, theme='fire', point_size=5);\n",
    "#save(f,outfile+'.html')\n",
    "show(f)"
   ]
  },
  {
   "cell_type": "code",
   "execution_count": null,
   "metadata": {},
   "outputs": [],
   "source": [
    "hover_df = popular_breweries['brewery_name favorite_style beer_abv num_beer_style review_overall'.split()]\n",
    "\n",
    "f0 = umap.plot.interactive(brewery_by_style_model_list[0], labels=popular_breweries.favorite_style.values, \n",
    "                          hover_data=hover_df, theme='fire', point_size=3)\n",
    "f1 = umap.plot.interactive(brewery_by_style_model_list[1], labels=popular_breweries.favorite_style.values, \n",
    "                          hover_data=hover_df, theme='fire', point_size=3)\n",
    "f2 = umap.plot.interactive(brewery_by_style_model_list[2], labels=popular_breweries.favorite_style.values, \n",
    "                          hover_data=hover_df, theme='fire', point_size=3)\n",
    "f3 = umap.plot.interactive(brewery_by_style_model_list[3], labels=popular_breweries.favorite_style.values, \n",
    "                          hover_data=hover_df, theme='fire', point_size=3)\n",
    "f = gridplot([[f0, f1], [f2, f3]], plot_width=500, plot_height=500)\n",
    "show(f)"
   ]
  },
  {
   "cell_type": "code",
   "execution_count": null,
   "metadata": {},
   "outputs": [],
   "source": []
  }
 ],
 "metadata": {
  "kernelspec": {
   "display_name": "Python [conda env:reproallthethings] *",
   "language": "python",
   "name": "conda-env-reproallthethings-py"
  },
  "language_info": {
   "codemirror_mode": {
    "name": "ipython",
    "version": 3
   },
   "file_extension": ".py",
   "mimetype": "text/x-python",
   "name": "python",
   "nbconvert_exporter": "python",
   "pygments_lexer": "ipython3",
   "version": "3.8.1"
  }
 },
 "nbformat": 4,
 "nbformat_minor": 4
}
