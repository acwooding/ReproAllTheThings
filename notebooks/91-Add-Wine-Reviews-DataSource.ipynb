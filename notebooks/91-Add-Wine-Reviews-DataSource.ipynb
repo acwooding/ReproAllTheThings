{
 "cells": [
  {
   "cell_type": "code",
   "execution_count": null,
   "metadata": {},
   "outputs": [],
   "source": [
    "#Quick cell to make jupyter notebook use the full screen width\n",
    "from IPython.core.display import display, HTML\n",
    "display(HTML(\"<style>.container { width:100% !important; }</style>\"))"
   ]
  },
  {
   "cell_type": "code",
   "execution_count": null,
   "metadata": {},
   "outputs": [],
   "source": [
    "%load_ext autoreload\n",
    "%autoreload 2"
   ]
  },
  {
   "cell_type": "code",
   "execution_count": null,
   "metadata": {},
   "outputs": [],
   "source": [
    "# Basic utility functions\n",
    "import logging\n",
    "import os\n",
    "import pathlib\n",
    "from src.log import logger\n",
    "from src import paths\n",
    "from src.utils import list_dir\n",
    "\n",
    "# data functions\n",
    "from src.data import DataSource\n",
    "from src import workflow"
   ]
  },
  {
   "cell_type": "code",
   "execution_count": null,
   "metadata": {},
   "outputs": [],
   "source": [
    "logger.setLevel(logging.DEBUG)"
   ]
  },
  {
   "cell_type": "markdown",
   "metadata": {},
   "source": [
    "## Getting the Wine Reviews Dataset\n",
    "\n",
    "https://www.kaggle.com/zynicide/wine-reviews\n",
    "\n",
    "License: CC BY-NC-SA 4.0\n",
    "\n",
    "About: \n",
    "\n",
    "### Content\n",
    "\n",
    "This dataset contains three files:\n",
    "\n",
    "  * `winemag-data-130k-v2.csv` contains 13 columns and 130k rows of wine reviews.\n",
    "\n",
    "  * `winemag-data_first150k.csv` contains 10 columns and 150k rows of wine reviews. (Does not have Taster info)\n",
    "\n",
    "  * `winemag-data-130k-v2.json` contains 6919 nodes of wine reviews.\n",
    "\n",
    "The data consists of 13 fields:\n",
    "\n",
    "* Points: the number of points WineEnthusiast rated the wine on a scale of 1-100 (though they say they only post reviews for wines that score >=80)\n",
    "* Title: the title of the wine review, which often contains the vintage if you're interested in extracting that feature\n",
    "* Variety: the type of grapes used to make the wine (ie Pinot Noir)\n",
    "* Description: a few sentences from a sommelier describing the wine's taste, smell, look, feel, etc.\n",
    "* Country: the country that the wine is from\n",
    "* Province: the province or state that the wine is from\n",
    "* Region 1: the wine growing area in a province or state (ie Napa)\n",
    "* Region 2: sometimes there are more specific regions specified within a wine growing area (ie Rutherford inside the Napa Valley), but this value can sometimes be blank\n",
    "* Winery: the winery that made the wine\n",
    "* Designation: the vineyard within the winery where the grapes that made the wine are from\n",
    "* Price: the cost for a bottle of the wine\n",
    "* Taster Name: name of the person who tasted and reviewed the wine\n",
    "* Taster Twitter Handle: Twitter handle for the person who tasted ane reviewed the wine\n",
    "\n",
    "UPDATED 11/24/2017 Title, Taster Name, and Taster Twitter Handle were collected and the issue with duplicate entires was resolved\n",
    "\n",
    "### Acknowledgements\n",
    "\n",
    "The data was scraped from WineEnthusiast during the week of June 15th, 2017. The code for the scraper can be found here if you have any more specific questions about data collection that I didn't address. (https://github.com/zackthoutt/wine-deep-learning)\n",
    "\n",
    "UPDATE 11/24/2017\n",
    "After feedback from users of the dataset I scraped the reviews again on November 22nd, 2017. This time around I collected the title of each review, which you can parse the year out of, the tasters name, and the taster's Twitter handle. This should also fix the duplicate entry issue."
   ]
  },
  {
   "cell_type": "markdown",
   "metadata": {},
   "source": [
    "## Add this as a DataSource"
   ]
  },
  {
   "cell_type": "code",
   "execution_count": null,
   "metadata": {},
   "outputs": [],
   "source": [
    "ds_name = 'wine_reviews'\n",
    "dsrc = DataSource(ds_name)"
   ]
  },
  {
   "cell_type": "code",
   "execution_count": null,
   "metadata": {},
   "outputs": [],
   "source": [
    "filename = 'wine_reviews.zip'\n",
    "shasum = 'sha1:844f943eda69e7a472a8d6752d71d436f6caefc8'"
   ]
  },
  {
   "cell_type": "code",
   "execution_count": null,
   "metadata": {},
   "outputs": [],
   "source": [
    "message = f\"\"\"\n",
    "Please download {filename} from the Kaggle webpage at:\n",
    "   https://www.kaggle.com/zynicide/wine-reviews\n",
    "   \n",
    "When you select “Download” from Kaggle, it will download all three files together in a .zip file. Name this file wine_reviews.zip and put it in your data/raw directory.\n",
    "\n",
    "Its SHA-1 Hash should be: {shasum} \n",
    "\n",
    "This will require you to create a Kaggle account, and consent to their terms of service.\n",
    "\"\"\""
   ]
  },
  {
   "cell_type": "code",
   "execution_count": null,
   "metadata": {},
   "outputs": [],
   "source": [
    "dsrc.add_manual_download(message, file_name=filename, hash_value=shasum, force=True)"
   ]
  },
  {
   "cell_type": "code",
   "execution_count": null,
   "metadata": {},
   "outputs": [],
   "source": [
    "dsrc.file_dict[filename]"
   ]
  },
  {
   "cell_type": "code",
   "execution_count": null,
   "metadata": {},
   "outputs": [],
   "source": [
    "dsrc.fetch()"
   ]
  },
  {
   "cell_type": "markdown",
   "metadata": {},
   "source": [
    "We will now download this file (offline) into our ~/Downloads directory. Modify your download location as necessary. The Kaggle file downloads as `1442_8172_bundle_archive.zip` so change the name to `wine_reviews.zip`  as well."
   ]
  },
  {
   "cell_type": "code",
   "execution_count": null,
   "metadata": {},
   "outputs": [],
   "source": [
    "home_location = pathlib.PosixPath(os.environ['HOME']) \n",
    "downloaded_location = home_location / \"Downloads\" / filename"
   ]
  },
  {
   "cell_type": "code",
   "execution_count": null,
   "metadata": {},
   "outputs": [],
   "source": [
    "raw_data_path = paths['raw_data_path']  # hack so we can do the shell command below"
   ]
  },
  {
   "cell_type": "code",
   "execution_count": null,
   "metadata": {},
   "outputs": [],
   "source": [
    "!cp $downloaded_location $raw_data_path"
   ]
  },
  {
   "cell_type": "code",
   "execution_count": null,
   "metadata": {},
   "outputs": [],
   "source": [
    "!ls -la $raw_data_path"
   ]
  },
  {
   "cell_type": "code",
   "execution_count": null,
   "metadata": {},
   "outputs": [],
   "source": [
    "unpack_path = dsrc.unpack()"
   ]
  },
  {
   "cell_type": "code",
   "execution_count": null,
   "metadata": {},
   "outputs": [],
   "source": [
    "!ls -la $unpack_path"
   ]
  },
  {
   "cell_type": "markdown",
   "metadata": {},
   "source": [
    "## Save progress!"
   ]
  },
  {
   "cell_type": "code",
   "execution_count": null,
   "metadata": {},
   "outputs": [],
   "source": [
    "workflow.add_datasource(dsrc)"
   ]
  },
  {
   "cell_type": "code",
   "execution_count": null,
   "metadata": {},
   "outputs": [],
   "source": [
    "workflow.datasource_catalog()"
   ]
  },
  {
   "cell_type": "markdown",
   "metadata": {},
   "source": [
    "## How to get a DataSource you've already started working with"
   ]
  },
  {
   "cell_type": "code",
   "execution_count": null,
   "metadata": {},
   "outputs": [],
   "source": [
    "workflow.datasource_catalog(keys_only=True)"
   ]
  },
  {
   "cell_type": "code",
   "execution_count": null,
   "metadata": {},
   "outputs": [],
   "source": [
    "dsrc = DataSource.from_catalog('wine_reviews')"
   ]
  },
  {
   "cell_type": "code",
   "execution_count": null,
   "metadata": {},
   "outputs": [],
   "source": [
    "dsrc.file_dict"
   ]
  },
  {
   "cell_type": "markdown",
   "metadata": {},
   "source": [
    "## Time to add metadata and license info\n",
    "We'll use the metadata info from the beginning of this file coming from the Kaggle/GitHub pages."
   ]
  },
  {
   "cell_type": "code",
   "execution_count": null,
   "metadata": {},
   "outputs": [],
   "source": [
    "license = \"CC BY-NC-SA 4.0\""
   ]
  },
  {
   "cell_type": "code",
   "execution_count": null,
   "metadata": {},
   "outputs": [],
   "source": [
    "metadata = \"\"\"\n",
    "### Content\n",
    "\n",
    "This dataset contains three files:\n",
    "\n",
    "  * `winemag-data-130k-v2.csv` contains 13 columns and 130k rows of wine reviews.\n",
    "\n",
    "  * `winemag-data_first150k.csv` contains 10 columns and 150k rows of wine reviews. (Does not have Taster info)\n",
    "\n",
    "  * `winemag-data-130k-v2.json` contains 6919 nodes of wine reviews.\n",
    "\n",
    "The data consists of 13 fields:\n",
    "\n",
    "* Points: the number of points WineEnthusiast rated the wine on a scale of 1-100 (though they say they only post reviews for wines that score >=80)\n",
    "* Title: the title of the wine review, which often contains the vintage if you're interested in extracting that feature\n",
    "* Variety: the type of grapes used to make the wine (ie Pinot Noir)\n",
    "* Description: a few sentences from a sommelier describing the wine's taste, smell, look, feel, etc.\n",
    "* Country: the country that the wine is from\n",
    "* Province: the province or state that the wine is from\n",
    "* Region 1: the wine growing area in a province or state (ie Napa)\n",
    "* Region 2: sometimes there are more specific regions specified within a wine growing area (ie Rutherford inside the Napa Valley), but this value can sometimes be blank\n",
    "* Winery: the winery that made the wine\n",
    "* Designation: the vineyard within the winery where the grapes that made the wine are from\n",
    "* Price: the cost for a bottle of the wine\n",
    "* Taster Name: name of the person who tasted and reviewed the wine\n",
    "* Taster Twitter Handle: Twitter handle for the person who tasted ane reviewed the wine\n",
    "\n",
    "UPDATED 11/24/2017 Title, Taster Name, and Taster Twitter Handle were collected and the issue with duplicate entires was resolved\n",
    "\n",
    "### Acknowledgements\n",
    "\n",
    "The data was scraped from WineEnthusiast during the week of June 15th, 2017. The code for the scraper can be found here if you have any more specific questions about data collection that I didn't address. (https://github.com/zackthoutt/wine-deep-learning)\n",
    "\n",
    "UPDATE 11/24/2017\n",
    "After feedback from users of the dataset I scraped the reviews again on November 22nd, 2017. This time around I collected the title of each review, which you can parse the year out of, the tasters name, and the taster's Twitter handle. This should also fix the duplicate entry issue.\"\"\""
   ]
  },
  {
   "cell_type": "code",
   "execution_count": null,
   "metadata": {},
   "outputs": [],
   "source": [
    "dsrc.add_metadata(contents=metadata)"
   ]
  },
  {
   "cell_type": "code",
   "execution_count": null,
   "metadata": {},
   "outputs": [],
   "source": [
    "dsrc.add_metadata(contents=license, kind='LICENSE')"
   ]
  },
  {
   "cell_type": "code",
   "execution_count": null,
   "metadata": {},
   "outputs": [],
   "source": [
    "dsrc.file_dict"
   ]
  },
  {
   "cell_type": "code",
   "execution_count": null,
   "metadata": {},
   "outputs": [],
   "source": [
    "dsrc.file_dict.keys()"
   ]
  },
  {
   "cell_type": "code",
   "execution_count": null,
   "metadata": {},
   "outputs": [],
   "source": [
    "dsrc.fetch()"
   ]
  },
  {
   "cell_type": "code",
   "execution_count": null,
   "metadata": {},
   "outputs": [],
   "source": [
    "dsrc.fetch()"
   ]
  },
  {
   "cell_type": "code",
   "execution_count": null,
   "metadata": {},
   "outputs": [],
   "source": [
    "dsrc.unpack()"
   ]
  },
  {
   "cell_type": "code",
   "execution_count": null,
   "metadata": {},
   "outputs": [],
   "source": [
    "workflow.add_datasource(dsrc)"
   ]
  },
  {
   "cell_type": "code",
   "execution_count": null,
   "metadata": {},
   "outputs": [],
   "source": [
    "workflow.datasource_catalog()"
   ]
  },
  {
   "cell_type": "markdown",
   "metadata": {},
   "source": [
    "## Next: explore the data and create a Dataset\n",
    "\n",
    "We'll pick this up in the next notebook: [92-Create-Wine-Reviews-Dataset.ipynb](92-Create-Wine-Reviews-Dataset.ipynb)"
   ]
  },
  {
   "cell_type": "code",
   "execution_count": null,
   "metadata": {},
   "outputs": [],
   "source": []
  }
 ],
 "metadata": {
  "kernelspec": {
   "display_name": "Python [conda env:reproallthethings]",
   "language": "python",
   "name": "conda-env-reproallthethings-py"
  },
  "language_info": {
   "codemirror_mode": {
    "name": "ipython",
    "version": 3
   },
   "file_extension": ".py",
   "mimetype": "text/x-python",
   "name": "python",
   "nbconvert_exporter": "python",
   "pygments_lexer": "ipython3",
   "version": "3.7.9"
  }
 },
 "nbformat": 4,
 "nbformat_minor": 4
}
