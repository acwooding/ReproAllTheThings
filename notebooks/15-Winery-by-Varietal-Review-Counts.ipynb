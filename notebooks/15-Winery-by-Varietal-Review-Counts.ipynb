{
 "cells": [
  {
   "cell_type": "markdown",
   "metadata": {},
   "source": [
    "## FINISH WITH ADDING PICTURES AND DECIDING ON A STORY"
   ]
  },
  {
   "cell_type": "code",
   "execution_count": null,
   "metadata": {},
   "outputs": [],
   "source": [
    "#Quick cell to make jupyter notebook use the full screen width\n",
    "from IPython.core.display import display, HTML\n",
    "display(HTML(\"<style>.container { width:100% !important; }</style>\"))"
   ]
  },
  {
   "cell_type": "code",
   "execution_count": null,
   "metadata": {},
   "outputs": [],
   "source": [
    "#Some plotting libraries\n",
    "import matplotlib.pyplot as plt\n",
    "%matplotlib notebook\n",
    "from bokeh.plotting import show, save, output_notebook, output_file\n",
    "from bokeh.resources import INLINE \n",
    "output_notebook(resources=INLINE)"
   ]
  },
  {
   "cell_type": "code",
   "execution_count": null,
   "metadata": {},
   "outputs": [],
   "source": [
    "from src import workflow\n",
    "from src.data import Dataset\n",
    "from src import paths"
   ]
  },
  {
   "cell_type": "code",
   "execution_count": null,
   "metadata": {},
   "outputs": [],
   "source": [
    "import umap\n",
    "import umap.plot\n",
    "from vectorizers import NgramVectorizer\n",
    "import numpy as np"
   ]
  },
  {
   "cell_type": "markdown",
   "metadata": {},
   "source": [
    "## Get Data XXX Fix later"
   ]
  },
  {
   "cell_type": "code",
   "execution_count": null,
   "metadata": {},
   "outputs": [],
   "source": [
    "import pandas as pd"
   ]
  },
  {
   "cell_type": "code",
   "execution_count": null,
   "metadata": {},
   "outputs": [],
   "source": [
    "wine_reviews_path = paths['raw_data_path'] / 'winemag-data-130k-v2.csv'"
   ]
  },
  {
   "cell_type": "code",
   "execution_count": null,
   "metadata": {},
   "outputs": [],
   "source": [
    "df = pd.read_csv(wine_reviews_path, index_col=0)"
   ]
  },
  {
   "cell_type": "code",
   "execution_count": null,
   "metadata": {},
   "outputs": [],
   "source": [
    "df.head()"
   ]
  },
  {
   "cell_type": "markdown",
   "metadata": {},
   "source": [
    "## Getting Data in the Right Format XXX Goes into notebook 14 (equivalent)?"
   ]
  },
  {
   "cell_type": "markdown",
   "metadata": {},
   "source": [
    "This time we want one row per winery, and we want to compare the wineries based on the varietals that they make.\n",
    "\n",
    "This is a job for groupby.  We groupby the column we'd like to embed and then use agg with a dictionary of column names to aggregation functions to tell it how to summarize the many reviews about a single beer into one record.  Aggregation functions are pretty much any function that takes an iterable and returns a single value.  Median and max are great functions for dealing with numeric fields.\n",
    "\n",
    "Note that we'll want to drop out entries that don't have a recorded variety as well (there's only one of these!)"
   ]
  },
  {
   "cell_type": "code",
   "execution_count": null,
   "metadata": {},
   "outputs": [],
   "source": [
    "df.variety.value_counts(dropna=False)"
   ]
  },
  {
   "cell_type": "code",
   "execution_count": null,
   "metadata": {},
   "outputs": [],
   "source": [
    "df_variety = df.dropna(axis=0, subset=['variety'])"
   ]
  },
  {
   "cell_type": "code",
   "execution_count": null,
   "metadata": {},
   "outputs": [],
   "source": [
    "winery = df_variety.groupby('winery').agg({\n",
    "    'winery':'count',\n",
    "    'country':lambda x: list(x.unique())[0],\n",
    "    'province':lambda x: list(x.unique())[0],\n",
    "    'price':'mean',\n",
    "    'points':'mean',\n",
    "    'variety': [list, len, lambda x:x.mode().iloc[0]],\n",
    "}).reset_index()\n",
    "winery.columns = \"\"\"winery num_reviews country province price points\n",
    "varietal_list num_varietals favourite_varietal\"\"\".split()"
   ]
  },
  {
   "cell_type": "code",
   "execution_count": null,
   "metadata": {},
   "outputs": [],
   "source": [
    "winery"
   ]
  },
  {
   "cell_type": "markdown",
   "metadata": {},
   "source": [
    "## First step of the embedding: Vectorization\n",
    "\n",
    "We are going to vectorize our `varietal_list` data. This step turns the list of varietals into a sparse matrix of counts. One row per row of our data frame and one column per unique token that appeared in our categorical field of interest (in this case, varietals).\n",
    "\n",
    "We'll use `NgramVectorizer` to turn the `varietal_list` into a vector that counts the number of times each varietal appears in the `varietal_list`.\n",
    "\n",
    "\n",
    "We use `min_document_occurrences=5` in our `NgramVectorizer` to only count varietals that had at least 10 reviews. Here a *document* corresponds to a *winery*. "
   ]
  },
  {
   "cell_type": "code",
   "execution_count": null,
   "metadata": {},
   "outputs": [],
   "source": [
    "winery_by_varietal_vectorizer = NgramVectorizer(min_document_occurrences=10)\n",
    "winery_by_varietal = winery_by_varietal_vectorizer.fit_transform(winery.varietal_list)"
   ]
  },
  {
   "cell_type": "code",
   "execution_count": null,
   "metadata": {},
   "outputs": [],
   "source": [
    "winery_by_varietal.shape"
   ]
  },
  {
   "cell_type": "markdown",
   "metadata": {},
   "source": [
    "## Next step: Dimension Reduction\n",
    "Now that we have a numerical representation, we can reduce dimension to get our desired low-dimensional embedding. We'll make ours 2d for easy visualization.\n",
    "\n",
    "We're in a situation where **counts matter**, as we're considering wineries as being represented by the varietals that it makes. Thus, we'll use `hellinger` for our metric."
   ]
  },
  {
   "cell_type": "code",
   "execution_count": null,
   "metadata": {
    "scrolled": true
   },
   "outputs": [],
   "source": [
    "%%time\n",
    "winery_by_varietal_model = umap.UMAP(n_neighbors=10, n_components=2, metric='hellinger',\n",
    "                                  unique=True, random_state=42).fit(winery_by_varietal)"
   ]
  },
  {
   "cell_type": "code",
   "execution_count": null,
   "metadata": {},
   "outputs": [],
   "source": [
    "path_to_figures = paths['project_path'] / 'reports' / 'figures'\n",
    "root_filename = 'winery_by_varietal_hellinger'\n",
    "outfile_png = path_to_figures / (root_filename + '.png')\n",
    "outfile_html = path_to_figures / (root_filename + '.html')"
   ]
  },
  {
   "cell_type": "code",
   "execution_count": null,
   "metadata": {},
   "outputs": [],
   "source": [
    "umap_plot = umap.plot.points(winery_by_varietal_model, labels=winery.favourite_varietal, theme='fire', show_legend=False);\n",
    "#umap_plot.figure.savefig(outfile_png, dpi=300, bbox_inches='tight')"
   ]
  },
  {
   "cell_type": "markdown",
   "metadata": {},
   "source": [
    "The winery by varietal seems to capture location data as well! For example, the country:"
   ]
  },
  {
   "cell_type": "code",
   "execution_count": null,
   "metadata": {},
   "outputs": [],
   "source": [
    "umap_plot = umap.plot.points(winery_by_varietal_model, labels=winery.country.astype(str), theme='fire', show_legend=False);"
   ]
  },
  {
   "cell_type": "markdown",
   "metadata": {},
   "source": [
    "And province:"
   ]
  },
  {
   "cell_type": "code",
   "execution_count": null,
   "metadata": {},
   "outputs": [],
   "source": [
    "umap_plot = umap.plot.points(winery_by_varietal_model, labels=winery.province.astype(str), theme='fire', show_legend=False);"
   ]
  },
  {
   "cell_type": "code",
   "execution_count": null,
   "metadata": {},
   "outputs": [],
   "source": [
    "winery.columns"
   ]
  },
  {
   "cell_type": "code",
   "execution_count": null,
   "metadata": {},
   "outputs": [],
   "source": [
    "hover_df = winery[['winery', 'num_reviews', 'country', 'province', 'price', 'points',\n",
    "                   'num_varietals', 'favourite_varietal']]\n",
    "f = umap.plot.interactive(winery_by_varietal_model, labels=winery.province.astype(str), \n",
    "                          hover_data=hover_df, theme='fire', point_size=5);\n",
    "#save(f, filename=outfile_html)\n",
    "show(f)"
   ]
  },
  {
   "cell_type": "code",
   "execution_count": null,
   "metadata": {},
   "outputs": [],
   "source": []
  }
 ],
 "metadata": {
  "kernelspec": {
   "display_name": "Python [conda env:reproallthethings] *",
   "language": "python",
   "name": "conda-env-reproallthethings-py"
  },
  "language_info": {
   "codemirror_mode": {
    "name": "ipython",
    "version": 3
   },
   "file_extension": ".py",
   "mimetype": "text/x-python",
   "name": "python",
   "nbconvert_exporter": "python",
   "pygments_lexer": "ipython3",
   "version": "3.7.6"
  }
 },
 "nbformat": 4,
 "nbformat_minor": 4
}
