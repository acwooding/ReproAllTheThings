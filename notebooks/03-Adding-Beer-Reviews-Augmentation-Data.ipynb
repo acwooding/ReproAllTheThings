{
 "cells": [
  {
   "cell_type": "code",
   "execution_count": null,
   "metadata": {},
   "outputs": [],
   "source": [
    "#Quick cell to make jupyter notebook use the full screen wi\"dth\n",
    "from IPython.core.display import display, HTML\n",
    "display(HTML(\"<style>.container { width:100% !important; }</style>\"))"
   ]
  },
  {
   "cell_type": "code",
   "execution_count": null,
   "metadata": {},
   "outputs": [],
   "source": [
    "%load_ext autoreload\n",
    "%autoreload 2"
   ]
  },
  {
   "cell_type": "code",
   "execution_count": null,
   "metadata": {},
   "outputs": [],
   "source": [
    "# Basic utility functions\n",
    "import logging\n",
    "import pathlib\n",
    "from src.logging import logger\n",
    "from src.paths import Paths\n",
    "from src.utils import list_dir\n",
    "paths = Paths()"
   ]
  },
  {
   "cell_type": "code",
   "execution_count": null,
   "metadata": {},
   "outputs": [],
   "source": [
    "from src.data import DataSource, Dataset\n",
    "from src import workflow"
   ]
  },
  {
   "cell_type": "markdown",
   "metadata": {},
   "source": [
    "### Color by SRM\n",
    "\n",
    "We are going to look at beer so let's see if we can color by SRM.  SRM is a means by which brewers estimate color of the beer.  We'll grab a table of SRM values for beer styes and use it to augment our data.\n",
    "\n",
    "Let's make the source of these files urls from github."
   ]
  },
  {
   "cell_type": "code",
   "execution_count": null,
   "metadata": {},
   "outputs": [],
   "source": [
    "srm_dsrc = DataSource('beer_styles_srm')"
   ]
  },
  {
   "cell_type": "code",
   "execution_count": null,
   "metadata": {},
   "outputs": [],
   "source": [
    "!ls -la ../../EmbedAllTheThings/"
   ]
  },
  {
   "cell_type": "markdown",
   "metadata": {},
   "source": [
    "Getting html headers in things. Don't want to mess with this anymore. I'm just going to grab the files directly. "
   ]
  },
  {
   "cell_type": "code",
   "execution_count": null,
   "metadata": {},
   "outputs": [],
   "source": [
    "# Add requisite files\n",
    "# stem = 'https://raw.githubusercontent.com/jc-healy/EmbedAllTheThings/4d26897b4b9412ed5c9bae2cb1c472b9d3137fc4/'\n",
    "source = pathlib.Path('../../EmbedAllTheThings/').resolve()\n",
    "file_names = ['beer_styles.csv', 'srm2rgb.csv', 'beer_review_kaggle2srm_schema.csv']\n",
    "\n",
    "for name in file_names:\n",
    "    srm_dsrc.add_file(source_file=source/name)"
   ]
  },
  {
   "cell_type": "code",
   "execution_count": null,
   "metadata": {},
   "outputs": [],
   "source": [
    "srm_dsrc.file_list"
   ]
  },
  {
   "cell_type": "code",
   "execution_count": null,
   "metadata": {},
   "outputs": [],
   "source": [
    "# Add metadata...essentially, there is none.\n",
    "\n",
    "metadata_txt = \"\"\"\n",
    "This data is from https://github.com/jc-healy/EmbedAllTheThings. No previous source or \\\n",
    "license is available. No license on the repo either.\"\"\"\n",
    "\n",
    "srm_dsrc.add_metadata(contents=metadata_txt, kind='DESCR')"
   ]
  },
  {
   "cell_type": "code",
   "execution_count": null,
   "metadata": {},
   "outputs": [],
   "source": [
    "srm_dsrc.fetch()"
   ]
  },
  {
   "cell_type": "code",
   "execution_count": null,
   "metadata": {},
   "outputs": [],
   "source": [
    "!ls -la $paths.raw_data_path"
   ]
  },
  {
   "cell_type": "code",
   "execution_count": null,
   "metadata": {},
   "outputs": [],
   "source": [
    "srm_dsrc.unpack()"
   ]
  },
  {
   "cell_type": "markdown",
   "metadata": {},
   "source": [
    "\n",
    "    srm_raw = pd.read_csv('beer_styles.csv')\n",
    "    schema_match = pd.read_csv('beer_review_kaggle2srm_schema.csv')\n",
    "    srm = schema_match.merge(srm_raw, how='left', right_on='Style Name', left_on='srm_style')\n",
    "\n",
    "    srm2rgb = pd.read_csv('srm2rgb.csv', header=None, sep=' ')\n",
    "    srm2rgb.columns = ['srm_rgb','srm']\n",
    "    srm_data = srm.merge(srm2rgb, how='left', left_on=srm['SRM Mid'].apply(int), right_on='srm').drop(['srm'], axis =1)\n",
    "    #srm_data.to_csv('beer_style_enriched.csv', index=False)"
   ]
  },
  {
   "cell_type": "markdown",
   "metadata": {},
   "source": [
    "# Let's process this"
   ]
  },
  {
   "cell_type": "code",
   "execution_count": null,
   "metadata": {},
   "outputs": [],
   "source": [
    "import pandas as pd\n",
    "import pathlib\n",
    "\n",
    "def process_srm_data(*, source_dir, kind='all', metadata=None):\n",
    "    \"\"\"\n",
    "    Process beer reviews into (data, target, metadata) format. Since we plan to use Pandas\n",
    "    for further processing, data will be a pandas dataframe. As Pandas will read that too.\n",
    "    \n",
    "    In this case, if we \n",
    "    \n",
    "    Parameters\n",
    "    ----------\n",
    "    source_dir:\n",
    "        The directory the reviews have been put in (likely the raw data dir)\n",
    "    raw_dir:\n",
    "    kind: {'all'}\n",
    "        This is an unsupervised learning example. There are no labels. We will only work\n",
    "        with the whole dataset. (Optionally add train and test set later for experimenting.)\n",
    "        \n",
    "    \n",
    "    Returns\n",
    "    -------\n",
    "    A tuple:\n",
    "        (data, target, additional_metadata)\n",
    "        \n",
    "    \"\"\"\n",
    "    if metadata is None:\n",
    "        metadata = {}\n",
    "    \n",
    "    if source_dir:\n",
    "        source_dir = pathlib.Path(source_dir)\n",
    "    \n",
    "    srm_raw = pd.read_csv(source_dir / 'beer_styles.csv')\n",
    "    schema_match = pd.read_csv(source_dir / 'beer_review_kaggle2srm_schema.csv')\n",
    "    srm = schema_match.merge(srm_raw, how='left', right_on='Style Name', left_on='srm_style')\n",
    "\n",
    "    srm2rgb = pd.read_csv(source_dir / 'srm2rgb.csv', header=None, sep=' ')\n",
    "    srm2rgb.columns = ['srm_rgb','srm']\n",
    "    data = srm.merge(srm2rgb, how='left', left_on=srm['SRM Mid'].apply(int), right_on='srm').drop(['srm'], axis =1)\n",
    "\n",
    "    target = None\n",
    "    \n",
    "    return data, target, metadata"
   ]
  },
  {
   "cell_type": "code",
   "execution_count": null,
   "metadata": {},
   "outputs": [],
   "source": [
    "# test it \n",
    "data, target, metadata = process_srm_data(source_dir=paths.raw_data_path)"
   ]
  },
  {
   "cell_type": "markdown",
   "metadata": {},
   "source": [
    "## Added it to src directly"
   ]
  },
  {
   "cell_type": "code",
   "execution_count": null,
   "metadata": {},
   "outputs": [],
   "source": [
    "from src.data.localdata import process_srm_data"
   ]
  },
  {
   "cell_type": "code",
   "execution_count": null,
   "metadata": {},
   "outputs": [],
   "source": [
    "help(process_srm_data)"
   ]
  },
  {
   "cell_type": "code",
   "execution_count": null,
   "metadata": {},
   "outputs": [],
   "source": [
    "from functools import partial"
   ]
  },
  {
   "cell_type": "code",
   "execution_count": null,
   "metadata": {},
   "outputs": [],
   "source": [
    "srm_dsrc.parse_function = partial(process_srm_data, source_dir=str(paths.raw_data_path))"
   ]
  },
  {
   "cell_type": "code",
   "execution_count": null,
   "metadata": {},
   "outputs": [],
   "source": [
    "ds = srm_dsrc.process()"
   ]
  },
  {
   "cell_type": "code",
   "execution_count": null,
   "metadata": {},
   "outputs": [],
   "source": [
    "ds"
   ]
  },
  {
   "cell_type": "code",
   "execution_count": null,
   "metadata": {},
   "outputs": [],
   "source": [
    "workflow.available_datasources()"
   ]
  },
  {
   "cell_type": "code",
   "execution_count": null,
   "metadata": {},
   "outputs": [],
   "source": [
    "workflow.add_datasource(srm_dsrc)"
   ]
  },
  {
   "cell_type": "code",
   "execution_count": null,
   "metadata": {},
   "outputs": [],
   "source": [
    "workflow.available_datasources()"
   ]
  },
  {
   "cell_type": "code",
   "execution_count": null,
   "metadata": {},
   "outputs": [],
   "source": [
    "srm_ds = Dataset.from_datasource('beer_styles_srm')"
   ]
  },
  {
   "cell_type": "code",
   "execution_count": null,
   "metadata": {},
   "outputs": [],
   "source": [
    "srm_ds"
   ]
  },
  {
   "cell_type": "code",
   "execution_count": null,
   "metadata": {},
   "outputs": [],
   "source": [
    "workflow.available_datasources()"
   ]
  },
  {
   "cell_type": "code",
   "execution_count": null,
   "metadata": {},
   "outputs": [],
   "source": [
    "workflow.add_transformer(from_datasource='beer_styles_srm',\n",
    "                         output_dataset='beer_styles_srm_all')"
   ]
  },
  {
   "cell_type": "code",
   "execution_count": null,
   "metadata": {},
   "outputs": [],
   "source": [
    "workflow.make_data()"
   ]
  },
  {
   "cell_type": "code",
   "execution_count": null,
   "metadata": {},
   "outputs": [],
   "source": [
    "workflow.available_datasets()"
   ]
  },
  {
   "cell_type": "code",
   "execution_count": null,
   "metadata": {},
   "outputs": [],
   "source": [
    "ds = Dataset.load('beer_styles_srm_all')"
   ]
  },
  {
   "cell_type": "code",
   "execution_count": null,
   "metadata": {},
   "outputs": [],
   "source": [
    "ds"
   ]
  },
  {
   "cell_type": "code",
   "execution_count": null,
   "metadata": {},
   "outputs": [],
   "source": []
  }
 ],
 "metadata": {
  "kernelspec": {
   "display_name": "Python [conda env:reproallthethings] *",
   "language": "python",
   "name": "conda-env-reproallthethings-py"
  },
  "language_info": {
   "codemirror_mode": {
    "name": "ipython",
    "version": 3
   },
   "file_extension": ".py",
   "mimetype": "text/x-python",
   "name": "python",
   "nbconvert_exporter": "python",
   "pygments_lexer": "ipython3",
   "version": "3.8.1"
  }
 },
 "nbformat": 4,
 "nbformat_minor": 4
}
